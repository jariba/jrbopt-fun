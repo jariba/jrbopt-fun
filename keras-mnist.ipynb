{
  "nbformat": 4,
  "nbformat_minor": 0,
  "metadata": {
    "colab": {
      "name": "keras-test2.ipynb",
      "provenance": [],
      "authorship_tag": "ABX9TyN0OtMswW1pKAC6r1beXhTC",
      "include_colab_link": true
    },
    "kernelspec": {
      "name": "python3",
      "display_name": "Python 3"
    },
    "accelerator": "GPU"
  },
  "cells": [
    {
      "cell_type": "markdown",
      "metadata": {
        "id": "view-in-github",
        "colab_type": "text"
      },
      "source": [
        "<a href=\"https://colab.research.google.com/github/jariba/jrbopt-fun/blob/master/keras-mnist.ipynb\" target=\"_parent\"><img src=\"https://colab.research.google.com/assets/colab-badge.svg\" alt=\"Open In Colab\"/></a>"
      ]
    },
    {
      "cell_type": "code",
      "metadata": {
        "id": "29G7z1HabTNr",
        "colab_type": "code",
        "outputId": "95f4a286-285f-4222-8191-2843a33bf207",
        "colab": {
          "base_uri": "https://localhost:8080/",
          "height": 479
        }
      },
      "source": [
        "#!/usr/bin/env python\n",
        "import os\n",
        "\"\"\"\n",
        "os.environ[\"PLAIDML_NATIVE_PATH\"] = \"/usr/local/lib/libplaidml.dylib\"\n",
        "os.environ[\"RUNFILES_DIR\"] = \"/usr/local/share/plaidml\"\n",
        "os.environ[\"KERAS_BACKEND\"] = \"plaidml.keras.backend\"\n",
        "os.environ[\"KERAS_BACKEND\"] = \"tensorflow\"\n",
        "\"\"\"\n",
        "\n",
        "import keras\n",
        "from keras.datasets import mnist\n",
        "from keras.models import Sequential\n",
        "from keras.layers import Dense, Dropout, Flatten\n",
        "from keras.layers import Conv2D, MaxPooling2D\n",
        "from keras import backend as K\n",
        "#from tensorflow import keras as K\n",
        "\n",
        "batch_size = 128\n",
        "num_classes = 10\n",
        "epochs = 10\n",
        "# input image dimensions\n",
        "img_rows, img_cols = 28, 28\n",
        "# the data, split between train and test sets\n",
        "(x_train, y_train), (x_test, y_test) = mnist.load_data()\n",
        "if K.image_data_format() == 'channels_first':\n",
        "    x_train = x_train.reshape(x_train.shape[0], 1, img_rows, img_cols)\n",
        "    x_test = x_test.reshape(x_test.shape[0], 1, img_rows, img_cols)\n",
        "    input_shape = (1, img_rows, img_cols)\n",
        "else:\n",
        "    x_train = x_train.reshape(x_train.shape[0], img_rows, img_cols, 1)\n",
        "    x_test = x_test.reshape(x_test.shape[0], img_rows, img_cols, 1)\n",
        "    input_shape = (img_rows, img_cols, 1)\n",
        "x_train = x_train.astype('float32')\n",
        "x_test = x_test.astype('float32')\n",
        "x_train /= 255\n",
        "x_test /= 255\n",
        "print('x_train shape:', x_train.shape)\n",
        "print(x_train.shape[0], 'train samples')\n",
        "print(x_test.shape[0], 'test samples')\n",
        "# convert class vectors to binary class matrices\n",
        "y_train = keras.utils.to_categorical(y_train, num_classes)\n",
        "y_test = keras.utils.to_categorical(y_test, num_classes)\n",
        "model = Sequential()\n",
        "model.add(Conv2D(32, kernel_size=(3, 3),\n",
        "                 activation='relu',\n",
        "                 input_shape=input_shape))\n",
        "model.add(Conv2D(64, (3, 3), activation='relu'))\n",
        "model.add(MaxPooling2D(pool_size=(2, 2)))\n",
        "model.add(Dropout(0.25))\n",
        "model.add(Flatten())\n",
        "model.add(Dense(128, activation='relu'))\n",
        "model.add(Dropout(0.5))\n",
        "model.add(Dense(num_classes, activation='softmax'))\n",
        "model.compile(loss=keras.losses.categorical_crossentropy,\n",
        "              optimizer=keras.optimizers.Adadelta(),\n",
        "              metrics=['accuracy'])\n",
        "\n",
        "\n"
      ],
      "execution_count": 0,
      "outputs": [
        {
          "output_type": "stream",
          "text": [
            "x_train shape: (60000, 28, 28, 1)\n",
            "60000 train samples\n",
            "10000 test samples\n",
            "Train on 60000 samples, validate on 10000 samples\n",
            "Epoch 1/10\n",
            "60000/60000 [==============================] - 5s 82us/step - loss: 0.2651 - accuracy: 0.9178 - val_loss: 0.0575 - val_accuracy: 0.9810\n",
            "Epoch 2/10\n",
            "60000/60000 [==============================] - 5s 77us/step - loss: 0.0896 - accuracy: 0.9728 - val_loss: 0.0399 - val_accuracy: 0.9866\n",
            "Epoch 3/10\n",
            "60000/60000 [==============================] - 5s 77us/step - loss: 0.0669 - accuracy: 0.9797 - val_loss: 0.0370 - val_accuracy: 0.9875\n",
            "Epoch 4/10\n",
            "60000/60000 [==============================] - 5s 78us/step - loss: 0.0555 - accuracy: 0.9832 - val_loss: 0.0330 - val_accuracy: 0.9889\n",
            "Epoch 5/10\n",
            "60000/60000 [==============================] - 5s 78us/step - loss: 0.0466 - accuracy: 0.9857 - val_loss: 0.0298 - val_accuracy: 0.9898\n",
            "Epoch 6/10\n",
            "60000/60000 [==============================] - 5s 78us/step - loss: 0.0411 - accuracy: 0.9877 - val_loss: 0.0307 - val_accuracy: 0.9897\n",
            "Epoch 7/10\n",
            "60000/60000 [==============================] - 5s 79us/step - loss: 0.0392 - accuracy: 0.9876 - val_loss: 0.0333 - val_accuracy: 0.9886\n",
            "Epoch 8/10\n",
            "60000/60000 [==============================] - 5s 78us/step - loss: 0.0358 - accuracy: 0.9888 - val_loss: 0.0266 - val_accuracy: 0.9915\n",
            "Epoch 9/10\n",
            "60000/60000 [==============================] - 5s 78us/step - loss: 0.0321 - accuracy: 0.9899 - val_loss: 0.0294 - val_accuracy: 0.9906\n",
            "Epoch 10/10\n",
            "60000/60000 [==============================] - 5s 79us/step - loss: 0.0299 - accuracy: 0.9903 - val_loss: 0.0291 - val_accuracy: 0.9918\n",
            "Test loss: 0.02913776467668863\n",
            "Test accuracy: 0.9918000102043152\n"
          ],
          "name": "stdout"
        }
      ]
    },
    {
      "cell_type": "code",
      "metadata": {
        "id": "D-094ylVbm6K",
        "colab_type": "code",
        "outputId": "98ab5523-cab2-4ea7-bdd7-11a68b821e84",
        "colab": {
          "base_uri": "https://localhost:8080/",
          "height": 122
        }
      },
      "source": [
        "epochs=1\n",
        "model.fit(x_train, y_train,\n",
        "          batch_size=batch_size,\n",
        "          epochs=epochs,\n",
        "          verbose=1,\n",
        "          validation_data=(x_test, y_test))\n",
        "score = model.evaluate(x_test, y_test, verbose=0)\n",
        "print('Test loss:', score[0])\n",
        "print('Test accuracy:', score[1])"
      ],
      "execution_count": 0,
      "outputs": [
        {
          "output_type": "stream",
          "text": [
            "Train on 60000 samples, validate on 10000 samples\n",
            "Epoch 1/1\n",
            "60000/60000 [==============================] - 5s 80us/step - loss: 0.0271 - accuracy: 0.9916 - val_loss: 0.0284 - val_accuracy: 0.9912\n",
            "Test loss: 0.028365864958038948\n",
            "Test accuracy: 0.9911999702453613\n"
          ],
          "name": "stdout"
        }
      ]
    },
    {
      "cell_type": "code",
      "metadata": {
        "id": "MWkXWcIXcP0d",
        "colab_type": "code",
        "colab": {}
      },
      "source": [
        ""
      ],
      "execution_count": 0,
      "outputs": []
    }
  ]
}